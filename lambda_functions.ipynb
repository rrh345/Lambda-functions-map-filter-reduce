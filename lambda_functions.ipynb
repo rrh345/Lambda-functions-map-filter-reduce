{
 "cells": [
  {
   "cell_type": "code",
   "execution_count": 2,
   "metadata": {},
   "outputs": [
    {
     "name": "stderr",
     "output_type": "stream",
     "text": [
      "<>:14: SyntaxWarning: \"is\" with a literal. Did you mean \"==\"?\n",
      "<>:14: SyntaxWarning: \"is\" with a literal. Did you mean \"==\"?\n",
      "<>:14: SyntaxWarning: \"is\" with a literal. Did you mean \"==\"?\n",
      "<>:14: SyntaxWarning: \"is\" with a literal. Did you mean \"==\"?\n",
      "C:\\Users\\rrh35\\AppData\\Local\\Temp/ipykernel_16700/2429521007.py:14: SyntaxWarning: \"is\" with a literal. Did you mean \"==\"?\n",
      "  clean_data = filter(lambda x: False if (x['zip_code'] is '0') or (x['neighborhood'] is '') else True, data)\n",
      "C:\\Users\\rrh35\\AppData\\Local\\Temp/ipykernel_16700/2429521007.py:14: SyntaxWarning: \"is\" with a literal. Did you mean \"==\"?\n",
      "  clean_data = filter(lambda x: False if (x['zip_code'] is '0') or (x['neighborhood'] is '') else True, data)\n"
     ]
    },
    {
     "name": "stdout",
     "output_type": "stream",
     "text": [
      "1.1135306751330656\n",
      "0.7302559329920894\n",
      "34.46355728854229\n"
     ]
    }
   ],
   "source": [
    "#Part 1: Model the Detroit Police Population\n",
    "#-------------------------------------------\n",
    "\n",
    "#Read in the data from the Detroit Police Reports file using the CSVREADER and translate this into a list of dictionaries\n",
    "\n",
    "data = list()\n",
    "import csv\n",
    "with open(\"911_Calls_for_Service_(Last_30_Days).csv\",\"r\",newline='',encoding=\"utf-8-sig\") as csvfile:\n",
    "    for line in csv.DictReader(csvfile):\n",
    "        data.append(line)\n",
    "\n",
    "#Using Filter with lambda functions to exclude dictionaries (rows of the CSV) that have missing data in the\n",
    "#Zip, or Neighborhood columns.\n",
    "\n",
    "clean_data = filter(lambda x: False if (x['zip_code'] is '0') or (x['neighborhood'] is '') else True, data)\n",
    "\n",
    "new_list = list(clean_data)\n",
    "\n",
    "#Using lambda functions and Reduce, calculate the average total response time, the average dispatch time,\n",
    "#and average total time for the Detroit Police force.\n",
    "\n",
    "from functools import reduce\n",
    "\n",
    "#average total response time\n",
    "\n",
    "total_response_time_values = [int(i['totalresponsetime']) for i in new_list if i['totalresponsetime'].isnumeric()]\n",
    "\n",
    "sum_total_response_time = reduce(lambda x,y: x + y, total_response_time_values, 0)\n",
    "\n",
    "average_total_response_time = sum_total_response_time/len(total_response_time_values)\n",
    "print(average_total_response_time)\n",
    "\n",
    "#average dispatch time\n",
    "\n",
    "dispatch_time_values = [int(i['dispatchtime']) for i in new_list if i['dispatchtime'].isnumeric()]\n",
    "\n",
    "sum_dispatch_time = reduce(lambda x,y: x + y, dispatch_time_values, 0)\n",
    "\n",
    "average_dispatch_time = sum_dispatch_time/len(dispatch_time_values)\n",
    "print(average_dispatch_time)\n",
    "\n",
    "#average total time\n",
    "\n",
    "total_time_values = [int(i['totaltime']) for i in new_list if i['totaltime'].isnumeric()]\n",
    "\n",
    "sum_total_time = reduce(lambda x,y: x + y, total_time_values, 0)\n",
    "\n",
    "average_total_time = sum_total_time/len(total_time_values)\n",
    "print(average_total_time)\n",
    "\n",
    "\n",
    "#Part 2: Model the Neighborhood Samples\n",
    "#--------------------------------------\n",
    "\n",
    "\n"
   ]
  }
 ],
 "metadata": {
  "interpreter": {
   "hash": "86d1a67b0d56e74f294bd0a89711776805270fb9ebddae761db44ecf66e3b529"
  },
  "kernelspec": {
   "display_name": "Python 3.9.7 64-bit ('base': conda)",
   "language": "python",
   "name": "python3"
  },
  "language_info": {
   "codemirror_mode": {
    "name": "ipython",
    "version": 3
   },
   "file_extension": ".py",
   "mimetype": "text/x-python",
   "name": "python",
   "nbconvert_exporter": "python",
   "pygments_lexer": "ipython3",
   "version": "3.9.7"
  },
  "orig_nbformat": 4
 },
 "nbformat": 4,
 "nbformat_minor": 2
}
