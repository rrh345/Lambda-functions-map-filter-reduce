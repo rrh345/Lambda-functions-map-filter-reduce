{
 "cells": [
  {
   "cell_type": "code",
   "execution_count": 1,
   "metadata": {},
   "outputs": [
    {
     "name": "stderr",
     "output_type": "stream",
     "text": [
      "<>:15: SyntaxWarning: \"is\" with a literal. Did you mean \"==\"?\n",
      "<>:15: SyntaxWarning: \"is\" with a literal. Did you mean \"==\"?\n",
      "<>:26: SyntaxWarning: \"is not\" with a literal. Did you mean \"!=\"?\n",
      "<>:33: SyntaxWarning: \"is not\" with a literal. Did you mean \"!=\"?\n",
      "<>:40: SyntaxWarning: \"is not\" with a literal. Did you mean \"!=\"?\n",
      "<>:15: SyntaxWarning: \"is\" with a literal. Did you mean \"==\"?\n",
      "<>:15: SyntaxWarning: \"is\" with a literal. Did you mean \"==\"?\n",
      "<>:26: SyntaxWarning: \"is not\" with a literal. Did you mean \"!=\"?\n",
      "<>:33: SyntaxWarning: \"is not\" with a literal. Did you mean \"!=\"?\n",
      "<>:40: SyntaxWarning: \"is not\" with a literal. Did you mean \"!=\"?\n",
      "C:\\Users\\rrh35\\AppData\\Local\\Temp/ipykernel_20968/3707073588.py:15: SyntaxWarning: \"is\" with a literal. Did you mean \"==\"?\n",
      "  clean_data = filter(lambda x: False if (x['zip_code'] is '0') or (x['neighborhood'] is '') else True, data)\n",
      "C:\\Users\\rrh35\\AppData\\Local\\Temp/ipykernel_20968/3707073588.py:15: SyntaxWarning: \"is\" with a literal. Did you mean \"==\"?\n",
      "  clean_data = filter(lambda x: False if (x['zip_code'] is '0') or (x['neighborhood'] is '') else True, data)\n",
      "C:\\Users\\rrh35\\AppData\\Local\\Temp/ipykernel_20968/3707073588.py:26: SyntaxWarning: \"is not\" with a literal. Did you mean \"!=\"?\n",
      "  total_response_time_values = [float(i['totalresponsetime']) for i in new_list if i['totalresponsetime'] is not \"\"]\n",
      "C:\\Users\\rrh35\\AppData\\Local\\Temp/ipykernel_20968/3707073588.py:33: SyntaxWarning: \"is not\" with a literal. Did you mean \"!=\"?\n",
      "  dispatch_time_values = [float(i['dispatchtime']) for i in new_list if i['dispatchtime'] is not \"\"]\n"
     ]
    },
    {
     "name": "stdout",
     "output_type": "stream",
     "text": [
      "The average total response time is 8.101558161700689\n",
      "The average dispatch time is 5.027692897431688\n",
      "The average total time is 31.503677199164077\n"
     ]
    },
    {
     "name": "stderr",
     "output_type": "stream",
     "text": [
      "C:\\Users\\rrh35\\AppData\\Local\\Temp/ipykernel_20968/3707073588.py:40: SyntaxWarning: \"is not\" with a literal. Did you mean \"!=\"?\n",
      "  total_time_values = [float(i['totaltime']) for i in new_list if i['totaltime'] is not \"\"]\n"
     ]
    }
   ],
   "source": [
    "#Part 1: Model the Detroit Police Population\n",
    "#-------------------------------------------------------------------------------------\n",
    "\n",
    "#Read in the data from the Detroit Police Reports file using the CSVREADER and translate this into a list of dictionaries\n",
    "\n",
    "data = list()\n",
    "import csv\n",
    "with open(\"911_Calls_for_Service_(Last_30_Days).csv\",\"r\",newline='',encoding=\"utf-8-sig\") as csvfile:\n",
    "    for line in csv.DictReader(csvfile):\n",
    "        data.append(line)\n",
    "\n",
    "#Using Filter with lambda functions to exclude dictionaries (rows of the CSV) that have missing data in the\n",
    "#Zip, or Neighborhood columns.\n",
    "\n",
    "clean_data = filter(lambda x: False if (x['zip_code'] is '0') or (x['neighborhood'] is '') else True, data)\n",
    "\n",
    "new_list = list(clean_data)\n",
    "\n",
    "#Using lambda functions and Reduce, calculate the average total response time, the average dispatch time,\n",
    "#and average total time for the Detroit Police force.\n",
    "\n",
    "from functools import reduce\n",
    "\n",
    "#average total response time\n",
    "\n",
    "total_response_time_values = [float(i['totalresponsetime']) for i in new_list if i['totalresponsetime'] is not \"\"]\n",
    "sum_total_response_time = reduce(lambda x,y: x + y, total_response_time_values, 0)\n",
    "average_total_response_time = sum_total_response_time/len(total_response_time_values)\n",
    "print(f\"The average total response time is {average_total_response_time}\")\n",
    "\n",
    "#average dispatch time\n",
    "\n",
    "dispatch_time_values = [float(i['dispatchtime']) for i in new_list if i['dispatchtime'] is not \"\"]\n",
    "sum_dispatch_time = reduce(lambda x,y: x + y, dispatch_time_values, 0)\n",
    "average_dispatch_time = sum_dispatch_time/len(dispatch_time_values)\n",
    "print(f\"The average dispatch time is {average_dispatch_time}\")\n",
    "\n",
    "#average total time\n",
    "\n",
    "total_time_values = [float(i['totaltime']) for i in new_list if i['totaltime'] is not \"\"]\n",
    "sum_total_time = reduce(lambda x,y: x + y, total_time_values, 0)\n",
    "average_total_time = sum_total_time/len(total_time_values)\n",
    "print(f\"The average total time is {average_total_time}\")\n"
   ]
  },
  {
   "cell_type": "code",
   "execution_count": 15,
   "metadata": {},
   "outputs": [
    {
     "name": "stderr",
     "output_type": "stream",
     "text": [
      "<>:22: SyntaxWarning: \"is not\" with a literal. Did you mean \"!=\"?\n",
      "<>:30: SyntaxWarning: \"is not\" with a literal. Did you mean \"!=\"?\n",
      "<>:38: SyntaxWarning: \"is not\" with a literal. Did you mean \"!=\"?\n",
      "<>:22: SyntaxWarning: \"is not\" with a literal. Did you mean \"!=\"?\n",
      "<>:30: SyntaxWarning: \"is not\" with a literal. Did you mean \"!=\"?\n",
      "<>:38: SyntaxWarning: \"is not\" with a literal. Did you mean \"!=\"?\n",
      "C:\\Users\\rrh35\\AppData\\Local\\Temp/ipykernel_20968/3335882992.py:22: SyntaxWarning: \"is not\" with a literal. Did you mean \"!=\"?\n",
      "  total_response_time_values = [float(i['totalresponsetime']) for i in neighborhoodsDict[neighborhood] if i['totalresponsetime'] is not \"\"]\n"
     ]
    },
    {
     "ename": "KeyError",
     "evalue": "'neighborhood'",
     "output_type": "error",
     "traceback": [
      "\u001b[1;31m---------------------------------------------------------------------------\u001b[0m",
      "\u001b[1;31mKeyError\u001b[0m                                  Traceback (most recent call last)",
      "\u001b[1;32m~\\AppData\\Local\\Temp/ipykernel_20968/3335882992.py\u001b[0m in \u001b[0;36m<module>\u001b[1;34m\u001b[0m\n\u001b[0;32m     23\u001b[0m     \u001b[0msum_total_response_time\u001b[0m \u001b[1;33m=\u001b[0m \u001b[0mreduce\u001b[0m\u001b[1;33m(\u001b[0m\u001b[1;32mlambda\u001b[0m \u001b[0mx\u001b[0m\u001b[1;33m,\u001b[0m\u001b[0my\u001b[0m\u001b[1;33m:\u001b[0m \u001b[0mx\u001b[0m \u001b[1;33m+\u001b[0m \u001b[0my\u001b[0m\u001b[1;33m,\u001b[0m \u001b[0mtotal_response_time_values\u001b[0m\u001b[1;33m,\u001b[0m \u001b[1;36m0\u001b[0m\u001b[1;33m)\u001b[0m\u001b[1;33m\u001b[0m\u001b[1;33m\u001b[0m\u001b[0m\n\u001b[0;32m     24\u001b[0m     \u001b[0maverage_total_response_time\u001b[0m \u001b[1;33m=\u001b[0m \u001b[0msum_total_response_time\u001b[0m\u001b[1;33m/\u001b[0m\u001b[0mlen\u001b[0m\u001b[1;33m(\u001b[0m\u001b[0mtotal_response_time_values\u001b[0m\u001b[1;33m)\u001b[0m\u001b[1;33m\u001b[0m\u001b[1;33m\u001b[0m\u001b[0m\n\u001b[1;32m---> 25\u001b[1;33m     \u001b[0mneighborhoodsDict\u001b[0m\u001b[1;33m[\u001b[0m\u001b[1;34m'neighborhood'\u001b[0m\u001b[1;33m]\u001b[0m\u001b[1;33m[\u001b[0m\u001b[1;34m'averagetotalresponsetime'\u001b[0m\u001b[1;33m]\u001b[0m \u001b[1;33m=\u001b[0m \u001b[0maverage_total_response_time\u001b[0m\u001b[1;33m\u001b[0m\u001b[1;33m\u001b[0m\u001b[0m\n\u001b[0m\u001b[0;32m     26\u001b[0m \u001b[1;33m\u001b[0m\u001b[0m\n\u001b[0;32m     27\u001b[0m \u001b[1;31m#average dispatch time\u001b[0m\u001b[1;33m\u001b[0m\u001b[1;33m\u001b[0m\u001b[0m\n",
      "\u001b[1;31mKeyError\u001b[0m: 'neighborhood'"
     ]
    }
   ],
   "source": [
    "#Part 2: Model the Neighborhood Samples\n",
    "#------------------------------------------------------------------------------\n",
    "\n",
    "#Using lambda and Map functions, or lambda and Filter, divide the list of dictionaries into\n",
    "#smaller lists of dictionaries separated by neighborhood.\n",
    "\n",
    "neighborhoods = list(set([row['neighborhood'] for row in new_list]))\n",
    "neighborhoodsDict = {}\n",
    "\n",
    "for neighborhood in neighborhoods:\n",
    "    neighborhoodsDict[neighborhood] = list(filter(lambda rowDict: rowDict['neighborhood'] == neighborhood, new_list))\n",
    "\n",
    "#Using lambda and reduce, find the average total response time for each neighborhood, the average dispatch time\n",
    "#for each neighborhood, and the average total time for each neighborhood and store this into a list of dictionaries.\n",
    "\n",
    "neighborhood_times = list(set([row['neighborhood'] for row in new_list]))\n",
    "neighborhood_times_Dict = {}\n",
    "\n",
    "#average total response time\n",
    "\n",
    "for neighborhood in neighborhoods:\n",
    "    total_response_time_values = [float(i['totalresponsetime']) for i in neighborhoodsDict[neighborhood] if i['totalresponsetime'] is not \"\"]\n",
    "    sum_total_response_time = reduce(lambda x,y: x + y, total_response_time_values, 0)\n",
    "    average_total_response_time = sum_total_response_time/len(total_response_time_values)\n",
    "    neighborhood_times_Dict[neighborhood]['averagetotalresponsetime'] = average_total_response_time\n",
    "\n",
    "#average dispatch time\n",
    "\n",
    "for neighborhood in neighborhoods:\n",
    "    dispatch_time_values = [float(i['dispatchtime']) for i in neighborhoodsDict[neighborhood] if i['dispatchtime'] is not \"\"]\n",
    "    sum_dispatch_time = reduce(lambda x,y: x + y, dispatch_time_values, 0)\n",
    "    average_dispatch_time = sum_dispatch_time/len(dispatch_time_values)\n",
    "    neighborhood_times_Dict[neighborhood]['averagedispatchtime'] = average_dispatch_time\n",
    "\n",
    "#average total time\n",
    "\n",
    "for neighborhood in neighborhoods:\n",
    "    total_time_values = [float(i['totaltime']) for i in neighborhoodsDict[neighborhood] if i['totaltime'] is not \"\"]\n",
    "    sum_total_time = reduce(lambda x,y: x + y, total_time_values, 0)\n",
    "    average_total_time = sum_total_time/len(total_time_values)\n",
    "    neighborhood_times_Dict[neighborhood]['averagetotaltime'] = average_total_time\n",
    "\n",
    "#Add a dictionary item to include the population data for all of Detroit in your combined list."
   ]
  }
 ],
 "metadata": {
  "interpreter": {
   "hash": "86d1a67b0d56e74f294bd0a89711776805270fb9ebddae761db44ecf66e3b529"
  },
  "kernelspec": {
   "display_name": "Python 3.9.7 64-bit ('base': conda)",
   "language": "python",
   "name": "python3"
  },
  "language_info": {
   "codemirror_mode": {
    "name": "ipython",
    "version": 3
   },
   "file_extension": ".py",
   "mimetype": "text/x-python",
   "name": "python",
   "nbconvert_exporter": "python",
   "pygments_lexer": "ipython3",
   "version": "3.9.7"
  },
  "orig_nbformat": 4
 },
 "nbformat": 4,
 "nbformat_minor": 2
}
