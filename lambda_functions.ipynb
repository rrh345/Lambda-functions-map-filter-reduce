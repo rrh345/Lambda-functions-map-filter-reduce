{
 "cells": [
  {
   "cell_type": "code",
   "execution_count": null,
   "metadata": {},
   "outputs": [],
   "source": [
    "#Part 1: Model the Detroit Police Population\n",
    "#-------------------------------------------------------------------------------------\n",
    "\n",
    "#Read in the data from the Detroit Police Reports file using the CSVREADER and translate this into a list of dictionaries\n",
    "\n",
    "data = list()\n",
    "import csv\n",
    "with open(\"911_Calls_for_Service_(Last_30_Days).csv\",\"r\",newline='',encoding=\"utf-8-sig\") as csvfile:\n",
    "    for line in csv.DictReader(csvfile):\n",
    "        data.append(line)\n",
    "\n",
    "#Using Filter with lambda functions to exclude dictionaries (rows of the CSV) that have missing data in the\n",
    "#Zip, or Neighborhood columns.\n",
    "\n",
    "clean_data = filter(lambda x: False if (x['zip_code'] is '0') or (x['neighborhood'] is '') else True, data)\n",
    "\n",
    "new_list = list(clean_data)\n",
    "\n",
    "#Using lambda functions and Reduce, calculate the average total response time, the average dispatch time,\n",
    "#and average total time for the Detroit Police force.\n",
    "\n",
    "from functools import reduce\n",
    "\n",
    "#average total response time\n",
    "\n",
    "total_response_time_values = [float(i['totalresponsetime']) for i in new_list if i['totalresponsetime'] is not \"\"]\n",
    "sum_total_response_time = reduce(lambda x,y: x + y, total_response_time_values, 0)\n",
    "average_total_response_time = sum_total_response_time/len(total_response_time_values)\n",
    "print(f\"The average total response time is {average_total_response_time}\")\n",
    "\n",
    "#average dispatch time\n",
    "\n",
    "dispatch_time_values = [float(i['dispatchtime']) for i in new_list if i['dispatchtime'] is not \"\"]\n",
    "sum_dispatch_time = reduce(lambda x,y: x + y, dispatch_time_values, 0)\n",
    "average_dispatch_time = sum_dispatch_time/len(dispatch_time_values)\n",
    "print(f\"The average dispatch time is {average_dispatch_time}\")\n",
    "\n",
    "#average total time\n",
    "\n",
    "total_time_values = [float(i['totaltime']) for i in new_list if i['totaltime'] is not \"\"]\n",
    "sum_total_time = reduce(lambda x,y: x + y, total_time_values, 0)\n",
    "average_total_time = sum_total_time/len(total_time_values)\n",
    "print(f\"The average total time is {average_total_time}\")\n"
   ]
  },
  {
   "cell_type": "code",
   "execution_count": 18,
   "metadata": {},
   "outputs": [
    {
     "name": "stderr",
     "output_type": "stream",
     "text": [
      "<>:19: SyntaxWarning: \"is not\" with a literal. Did you mean \"!=\"?\n",
      "<>:27: SyntaxWarning: \"is not\" with a literal. Did you mean \"!=\"?\n",
      "<>:35: SyntaxWarning: \"is not\" with a literal. Did you mean \"!=\"?\n",
      "<>:19: SyntaxWarning: \"is not\" with a literal. Did you mean \"!=\"?\n",
      "<>:27: SyntaxWarning: \"is not\" with a literal. Did you mean \"!=\"?\n",
      "<>:35: SyntaxWarning: \"is not\" with a literal. Did you mean \"!=\"?\n",
      "C:\\Users\\rrh35\\AppData\\Local\\Temp/ipykernel_20968/2846620537.py:19: SyntaxWarning: \"is not\" with a literal. Did you mean \"!=\"?\n",
      "  total_response_time_values = [float(i['totalresponsetime']) for i in neighborhoodsDict[neighborhood] if i['totalresponsetime'] is not \"\"]\n"
     ]
    },
    {
     "ename": "TypeError",
     "evalue": "list indices must be integers or slices, not str",
     "output_type": "error",
     "traceback": [
      "\u001b[1;31m---------------------------------------------------------------------------\u001b[0m",
      "\u001b[1;31mTypeError\u001b[0m                                 Traceback (most recent call last)",
      "\u001b[1;32m~\\AppData\\Local\\Temp/ipykernel_20968/2846620537.py\u001b[0m in \u001b[0;36m<module>\u001b[1;34m\u001b[0m\n\u001b[0;32m     20\u001b[0m     \u001b[0msum_total_response_time\u001b[0m \u001b[1;33m=\u001b[0m \u001b[0mreduce\u001b[0m\u001b[1;33m(\u001b[0m\u001b[1;32mlambda\u001b[0m \u001b[0mx\u001b[0m\u001b[1;33m,\u001b[0m\u001b[0my\u001b[0m\u001b[1;33m:\u001b[0m \u001b[0mx\u001b[0m \u001b[1;33m+\u001b[0m \u001b[0my\u001b[0m\u001b[1;33m,\u001b[0m \u001b[0mtotal_response_time_values\u001b[0m\u001b[1;33m,\u001b[0m \u001b[1;36m0\u001b[0m\u001b[1;33m)\u001b[0m\u001b[1;33m\u001b[0m\u001b[1;33m\u001b[0m\u001b[0m\n\u001b[0;32m     21\u001b[0m     \u001b[0maverage_total_response_time\u001b[0m \u001b[1;33m=\u001b[0m \u001b[0msum_total_response_time\u001b[0m\u001b[1;33m/\u001b[0m\u001b[0mlen\u001b[0m\u001b[1;33m(\u001b[0m\u001b[0mtotal_response_time_values\u001b[0m\u001b[1;33m)\u001b[0m\u001b[1;33m\u001b[0m\u001b[1;33m\u001b[0m\u001b[0m\n\u001b[1;32m---> 22\u001b[1;33m     \u001b[0mneighborhoodsDict\u001b[0m\u001b[1;33m[\u001b[0m\u001b[0mneighborhood\u001b[0m\u001b[1;33m]\u001b[0m\u001b[1;33m[\u001b[0m\u001b[1;34m'averagetotalresponsetime'\u001b[0m\u001b[1;33m]\u001b[0m \u001b[1;33m=\u001b[0m \u001b[0maverage_total_response_time\u001b[0m\u001b[1;33m\u001b[0m\u001b[1;33m\u001b[0m\u001b[0m\n\u001b[0m\u001b[0;32m     23\u001b[0m \u001b[1;33m\u001b[0m\u001b[0m\n\u001b[0;32m     24\u001b[0m \u001b[1;31m#average dispatch time\u001b[0m\u001b[1;33m\u001b[0m\u001b[1;33m\u001b[0m\u001b[0m\n",
      "\u001b[1;31mTypeError\u001b[0m: list indices must be integers or slices, not str"
     ]
    }
   ],
   "source": [
    "#Part 2: Model the Neighborhood Samples\n",
    "#------------------------------------------------------------------------------\n",
    "\n",
    "#Using lambda and Map functions, or lambda and Filter, divide the list of dictionaries into\n",
    "#smaller lists of dictionaries separated by neighborhood.\n",
    "\n",
    "neighborhoodsList = list(set([row['neighborhood'] for row in new_list]))\n",
    "neighborhoodsDict = {}\n",
    "\n",
    "for neighborhood in neighborhoodsList:\n",
    "    neighborhoodsDict[neighborhood] = list(filter(lambda rowDict: rowDict['neighborhood'] == neighborhood, new_list))\n",
    "\n",
    "#Using lambda and reduce, find the average total response time for each neighborhood, the average dispatch time\n",
    "#for each neighborhood, and the average total time for each neighborhood and store this into a list of dictionaries.\n",
    "\n",
    "neighborhood_times = list(set([row['neighborhood'] for row in new_list]))\\n\",\n",
    "neighborhood_times_Dict = {}\n",
    "\n",
    "#average total response time\n",
    "\n",
    "for neighborhood in neighborhoodsList:\n",
    "    total_response_time_values = [float(i['totalresponsetime']) for i in neighborhoodsDict[neighborhood] if i['totalresponsetime'] is not \"\"]\n",
    "    sum_total_response_time = reduce(lambda x,y: x + y, total_response_time_values, 0)\n",
    "    average_total_response_time = sum_total_response_time/len(total_response_time_values)\n",
    "    neighborhood_times_Dict[neighborhood]['averagetotalresponsetime'] = average_total_response_time\n",
    "\n",
    "#average dispatch time\n",
    "\n",
    "for neighborhood in neighborhoodsList:\n",
    "    dispatch_time_values = [float(i['dispatchtime']) for i in neighborhoodsDict[neighborhood] if i['dispatchtime'] is not \"\"]\n",
    "    sum_dispatch_time = reduce(lambda x,y: x + y, dispatch_time_values, 0)\n",
    "    average_dispatch_time = sum_dispatch_time/len(dispatch_time_values)\n",
    "    neighborhood_times_Dict[neighborhood]['averagedispatchtime'] = average_dispatch_time\n",
    "\n",
    "#average total time\n",
    "\n",
    "for neighborhood in neighborhoodsList:\n",
    "    total_time_values = [float(i['totaltime']) for i in neighborhoodsDict[neighborhood] if i['totaltime'] is not \"\"]\n",
    "    sum_total_time = reduce(lambda x,y: x + y, total_time_values, 0)\n",
    "    average_total_time = sum_total_time/len(total_time_values)\n",
    "    neighborhood_times_Dict[neighborhood]['averagetotaltime'] = average_total_time\n",
    "\n",
    "#Add a dictionary item to include the population data for all of Detroit in your combined list."
   ]
  },
  {
   "cell_type": "code",
   "execution_count": 19,
   "metadata": {},
   "outputs": [
    {
     "data": {
      "text/plain": [
       "'[\"Buffalo Charles\", \"Gold Coast\", \"Schoolcraft Southfield\", \"Mexicantown\", \"Greenfield Park\", \"Historic Atkinson\", \"Grand River-I96\", \"Harmony Village\", \"Castle Rouge\", \"Hubbell-Puritan\", \"Warren Ave Community\", \"Marina District\", \"Evergreen Lahser 7/8\", \"Greektown\", \"Grandmont #1\", \"Hubbell-Lyndon\", \"Crary/St Marys\", \"Berg-Lahser\", \"Evergreen-Outer Drive\", \"Minock Park\", \"Gateway Community\", \"Rouge Park\", \"Warrendale\", \"Palmer Park\", \"West Village\", \"Riverbend\", \"Detroit Golf\", \"Melvern Hill\", \"Pembroke\", \"Schulze\", \"Happy Homes\", \"Franklin\", \"Fitzgerald/Marygrove\", \"Arden Park\", \"Gratiot Woods\", \"Old Redford\", \"Cadillac Community\", \"Northwest Community\", \"McNichols Evergreen\", \"Grant\", \"Campau/Banglatown\", \"Conant Gardens\", \"Oakman Blvd Community\", \"Claytown\", \"Sherwood\", \"Chandler Park-Chalmers\", \"Grixdale Farms\", \"Joseph Berry Sub\", \"Rivertown\", \"Littlefield Community\", \"Mount Olivet\", \"Joy Community\", \"Grandmont\", \"Michigan-Martin\", \"Weatherby\", \"Barton-McFarland\", \"Oakwood Heights\", \"Joy-Schaefer\", \"South of Six\", \"Garden Homes\", \"East Village\", \"Jeffries\", \"North Rosedale Park\", \"Medical Center\", \"Delray\", \"The Eye\", \"Mohican Regent\", \"North Campau\", \"Plymouth-Hubbell\", \"Greenfield-Grand River\", \"Midwest\", \"Sherwood Forest\", \"Krainz Woods\", \"McDougall-Hunt\", \"Islandview\", \"Belle Isle\", \"Henry Ford\", \"Airport Sub\", \"Regent Park\", \"West Outer Drive\", \"NW Goldberg\", \"Dexter-Linwood\", \"Bethune Community\", \"Nolan\", \"Holcomb Community\", \"Midtown\", \"Elmwood Park\", \"Tech Town\", \"Waterworks Park\", \"Von Steuben\", \"East English Village\", \"Green Acres\", \"Tri-Point\", \"Herman Kiefer\", \"Seven Mile-Rouge\", \"Miller Grove\", \"Blackstone Park\", \"Far West Detroit\", \"Greenwich\", \"Mapleridge\", \"Eastern Market\", \"LaSalle Gardens\", \"Russell Industrial\", \"Wade\", \"Brightmoor\", \"Forest Park\", \"Outer Drive-Hayes\", \"Cultural Center\", \"North Corktown\", \"Pershing\", \"Yorkshire Woods\", \"Pingree Park\", \"Boynton\", \"North End\", \"State Fair\", \"Brush Park\", \"Carbon Works\", \"Pilgrim Village\", \"East Canfield\", \"Indian Village\", \"Poletown East\", \"Hubbard Farms\", \"Riverdale\", \"Denby\", \"Springwells\", \"Hubbard Richard\", \"Pride Area Community\", \"Grand River-St Marys\", \"Conner Creek Industrial\", \"Morningside\", \"Farwell\", \"Eden Gardens\", \"Downtown\", \"Wayne State\", \"Ravendale\", \"Brewster Homes\", \"Bagley\", \"Milwaukee Junction\", \"Fiskhorn\", \"Paveway\", \"Northeast Central District\", \"Belmont\", \"Franklin Park\", \"Oak Grove\", \"Elijah McCoy\", \"Chalfonte\", \"West Side Industrial\", \"Garden View\", \"Russell Woods\", \"Seven Mile Lodge\", \"Southfield Plymouth\", \"LaSalle College Park\", \"Conner Creek\", \"College Park\", \"Petoskey-Otsego\", \"Aviation Sub\", \"Schaefer 7/8 Lodge\", \"Moross-Morang\", \"Davison-Schoolcraft\", \"Rosedale Park\", \"Penrose\", \"Nortown\", \"Piety Hill\", \"Boston Edison\", \"Jamison\", \"Chandler Park\", \"Davison\", \"We Care Community\", \"Greenfield\", \"Nardin Park\", \"New Center Commons\", \"Gratiot Town/Ketterring\", \"Douglass\", \"San Bernardo\", \"O\\'Hair Park\", \"Hawthorne Park\", \"Plymouth-I96\", \"Cornerstone Village\", \"Butler\", \"Cadillac Heights\", \"Lafayette Park\", \"Westwood Park\", \"University District\", \"Wildemere Park\", \"Palmer Woods\", \"Eliza Howell\", \"Corktown\", \"Gratiot-Findlay\", \"West Virginia Park\", \"Chadsey Condon\", \"Woodbridge\", \"Dexter-Fenkell\", \"Fox Creek\", \"Jefferson Chalmers\", \"Core City\", \"Central Southwest\", \"North LaSalle\", \"Virginia Park\", \"New Center\", \"Medbury Park\", \"West End\", \"Pulaski\", \"Martin Park\", \"Winship\", \"McDowell\", \"Gratiot-Grand\", \"Five Points\"]'"
      ]
     },
     "execution_count": 19,
     "metadata": {},
     "output_type": "execute_result"
    }
   ],
   "source": [
    "#Part 3: Create an Output JSON file\n",
    "#---------------------------------------------------------------------------------\n",
    "\n",
    "#Using the JSON module, format your list of dictionaries as a JSON and test the output with the JSON lint website.\n",
    "#Write the tested JSON to a file.\n",
    "\n",
    "import json\n",
    "json.dumps(neighborhoodsList)"
   ]
  },
  {
   "cell_type": "code",
   "execution_count": null,
   "metadata": {},
   "outputs": [],
   "source": [
    "#Part 4: Stretch Goal, T-test, and Excel\n",
    "#-----------------------------------------------------------------------------------\n",
    "\n",
    "#Read your JSON file into Excel. Utilizing the T-Test function, examine the neighborhood differences between\n",
    "#the average total response times, the average dispatch times, and average total times.\n",
    "#Write up a jargon-free summary of your investigation."
   ]
  }
 ],
 "metadata": {
  "interpreter": {
   "hash": "86d1a67b0d56e74f294bd0a89711776805270fb9ebddae761db44ecf66e3b529"
  },
  "kernelspec": {
   "display_name": "Python 3.9.7 64-bit ('base': conda)",
   "language": "python",
   "name": "python3"
  },
  "language_info": {
   "codemirror_mode": {
    "name": "ipython",
    "version": 3
   },
   "file_extension": ".py",
   "mimetype": "text/x-python",
   "name": "python",
   "nbconvert_exporter": "python",
   "pygments_lexer": "ipython3",
   "version": "3.9.7"
  },
  "orig_nbformat": 4
 },
 "nbformat": 4,
 "nbformat_minor": 2
}
